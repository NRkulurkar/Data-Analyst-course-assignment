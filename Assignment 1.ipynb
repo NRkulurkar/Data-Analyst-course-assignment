{
 "cells": [
  {
   "cell_type": "markdown",
   "id": "cf4e9cc3",
   "metadata": {},
   "source": [
    "1.\tWrite a Python program to find those numbers which are divisible by 7 and multiple of 5, between 1500 and 2700 (both included)."
   ]
  },
  {
   "cell_type": "code",
   "execution_count": 3,
   "id": "b65379eb",
   "metadata": {},
   "outputs": [
    {
     "name": "stdout",
     "output_type": "stream",
     "text": [
      "1505\n",
      "1540\n",
      "1575\n",
      "1610\n",
      "1645\n",
      "1680\n",
      "1715\n",
      "1750\n",
      "1785\n",
      "1820\n",
      "1855\n",
      "1890\n",
      "1925\n",
      "1960\n",
      "1995\n",
      "2030\n",
      "2065\n",
      "2100\n",
      "2135\n",
      "2170\n",
      "2205\n",
      "2240\n",
      "2275\n",
      "2310\n",
      "2345\n",
      "2380\n",
      "2415\n",
      "2450\n",
      "2485\n",
      "2520\n",
      "2555\n",
      "2590\n",
      "2625\n",
      "2660\n",
      "2695\n"
     ]
    }
   ],
   "source": [
    "for i in range(1500,2701):\n",
    "    if(i%7==0 and i%5==0):\n",
    "        print(i)"
   ]
  },
  {
   "cell_type": "markdown",
   "id": "4c4952a2",
   "metadata": {},
   "source": [
    "2.\tPython program to add two numbers"
   ]
  },
  {
   "cell_type": "code",
   "execution_count": 13,
   "id": "08ef30eb",
   "metadata": {},
   "outputs": [
    {
     "name": "stdout",
     "output_type": "stream",
     "text": [
      "12\n",
      "15\n"
     ]
    },
    {
     "data": {
      "text/plain": [
       "27"
      ]
     },
     "execution_count": 13,
     "metadata": {},
     "output_type": "execute_result"
    }
   ],
   "source": [
    "x=int(input())\n",
    "y=int(input())\n",
    "x+y"
   ]
  },
  {
   "cell_type": "markdown",
   "id": "b05c2e16",
   "metadata": {},
   "source": [
    "3.\tMaximum of two numbers in Python"
   ]
  },
  {
   "cell_type": "code",
   "execution_count": 14,
   "id": "f6716222",
   "metadata": {},
   "outputs": [
    {
     "name": "stdout",
     "output_type": "stream",
     "text": [
      "14\n",
      "52\n"
     ]
    },
    {
     "data": {
      "text/plain": [
       "52"
      ]
     },
     "execution_count": 14,
     "metadata": {},
     "output_type": "execute_result"
    }
   ],
   "source": [
    "x=int(input())\n",
    "y=int(input())\n",
    "max(x,y)"
   ]
  },
  {
   "cell_type": "markdown",
   "id": "b2957f42",
   "metadata": {},
   "source": [
    "4.\tPython Program for factorial of a number"
   ]
  },
  {
   "cell_type": "code",
   "execution_count": 15,
   "id": "58c3cdc0",
   "metadata": {},
   "outputs": [
    {
     "name": "stdout",
     "output_type": "stream",
     "text": [
      "enter a number5\n",
      "120\n"
     ]
    }
   ],
   "source": [
    "fact=1\n",
    "num=int(input(\"enter a number\"))\n",
    "for i in  range(1,num+1):\n",
    "    fact=fact*i;\n",
    "    \n",
    "    \n",
    "print(fact)"
   ]
  },
  {
   "cell_type": "markdown",
   "id": "31acb288",
   "metadata": {},
   "source": [
    "5.\tPython Program for simple interest"
   ]
  },
  {
   "cell_type": "code",
   "execution_count": 18,
   "id": "223bb972",
   "metadata": {},
   "outputs": [
    {
     "name": "stdout",
     "output_type": "stream",
     "text": [
      "priciple4000\n",
      "rate4\n",
      "time12\n",
      "simple interest 1920.0\n"
     ]
    }
   ],
   "source": [
    "p=int(input(\"priciple\"))\n",
    "r=int(input(\"rate\"))\n",
    "t=int(input(\"time\"))\n",
    "i=(p*r*t)/100\n",
    "print(\"simple interest\",i)"
   ]
  },
  {
   "cell_type": "markdown",
   "id": "526f8f60",
   "metadata": {},
   "source": [
    "6.\tPython Program for compound interest"
   ]
  },
  {
   "cell_type": "code",
   "execution_count": 19,
   "id": "f134b9fc",
   "metadata": {},
   "outputs": [
    {
     "name": "stdout",
     "output_type": "stream",
     "text": [
      "priciple4500\n",
      "rate4\n",
      "time5\n",
      "number of times interest apply3\n",
      "Compound Interest 1488895760.126082\n"
     ]
    }
   ],
   "source": [
    "p=int(input(\"priciple\"))\n",
    "r=int(input(\"rate\"))\n",
    "t=int(input(\"time\"))\n",
    "n=int(input(\"number of times interest apply\"))\n",
    "A=p*(1+r/n)**(n*t)\n",
    "print(\"Compound Interest\",A)"
   ]
  },
  {
   "cell_type": "markdown",
   "id": "b37eaa42",
   "metadata": {},
   "source": [
    "7.\tPython Program to check Armstrong Number"
   ]
  },
  {
   "cell_type": "code",
   "execution_count": 21,
   "id": "6b637072",
   "metadata": {},
   "outputs": [
    {
     "name": "stdout",
     "output_type": "stream",
     "text": [
      "number:153\n",
      "armstrong number\n"
     ]
    }
   ],
   "source": [
    "sum=0\n",
    "num=int(input(\"number:\"))\n",
    "temp=num;\n",
    "while num>0:\n",
    "    r=num%10\n",
    "    sum=sum+(r*r*r)\n",
    "    num=num//10\n",
    "    \n",
    "    \n",
    "if(sum==temp):\n",
    "    print(\"armstrong number\")\n",
    "    \n",
    "else:\n",
    "    print(\"number is not an armstrong\")"
   ]
  },
  {
   "cell_type": "markdown",
   "id": "c82095a4",
   "metadata": {},
   "source": [
    "8.\tPython Program for Program to find area of a circle"
   ]
  },
  {
   "cell_type": "code",
   "execution_count": 22,
   "id": "1468a536",
   "metadata": {},
   "outputs": [
    {
     "name": "stdout",
     "output_type": "stream",
     "text": [
      "enter radius15\n",
      "Area= 707.1428571428571\n"
     ]
    }
   ],
   "source": [
    "r=int(input(\"enter radius\"))\n",
    "A=22/7 * r**2\n",
    "print(\"Area=\",A)"
   ]
  },
  {
   "cell_type": "markdown",
   "id": "5eff4eb4",
   "metadata": {},
   "source": [
    "9.\tPython program to print all Prime numbers in an Interval"
   ]
  },
  {
   "cell_type": "code",
   "execution_count": 42,
   "id": "eaffb823",
   "metadata": {},
   "outputs": [
    {
     "name": "stdout",
     "output_type": "stream",
     "text": [
      "lower100\n",
      "upper200\n",
      "101\n",
      "103\n",
      "105\n",
      "107\n",
      "109\n",
      "111\n",
      "113\n",
      "115\n",
      "117\n",
      "119\n",
      "121\n",
      "123\n",
      "125\n",
      "127\n",
      "129\n",
      "131\n",
      "133\n",
      "135\n",
      "137\n",
      "139\n",
      "141\n",
      "143\n",
      "145\n",
      "147\n",
      "149\n",
      "151\n",
      "153\n",
      "155\n",
      "157\n",
      "159\n",
      "161\n",
      "163\n",
      "165\n",
      "167\n",
      "169\n",
      "171\n",
      "173\n",
      "175\n",
      "177\n",
      "179\n",
      "181\n",
      "183\n",
      "185\n",
      "187\n",
      "189\n",
      "191\n",
      "193\n",
      "195\n",
      "197\n",
      "199\n"
     ]
    }
   ],
   "source": [
    "lower=int(input(\"lower\"))\n",
    "upper=int(input(\"upper\"))\n",
    "for num in range(lower,upper+1):\n",
    "    if num>1:\n",
    "        for i in range(2,n):\n",
    "            if num%i==0:\n",
    "                break\n",
    "        else:\n",
    "            print(num)\n",
    "                "
   ]
  },
  {
   "cell_type": "markdown",
   "id": "80def686",
   "metadata": {},
   "source": [
    "10.\t Python program to check whether a number is Prime or not"
   ]
  },
  {
   "cell_type": "code",
   "execution_count": 40,
   "id": "c288a40a",
   "metadata": {},
   "outputs": [
    {
     "name": "stdout",
     "output_type": "stream",
     "text": [
      "Enter a number25\n",
      "25 is not a prime number\n"
     ]
    }
   ],
   "source": [
    "num=int(input(\"Enter a number\"))\n",
    "flag=False\n",
    "\n",
    "if num>1:\n",
    "    for i in range(2,num):\n",
    "        if num%i==0:\n",
    "            flag=True\n",
    "            break\n",
    "            \n",
    "if flag:\n",
    "    print(num,\"is not a prime number\")\n",
    "    \n",
    "else:\n",
    "    print(num,\"is a prime number\")\n",
    "\n",
    "    \n",
    "    \n",
    "        \n",
    "        \n",
    "    "
   ]
  },
  {
   "cell_type": "code",
   "execution_count": null,
   "id": "e0d4c984",
   "metadata": {},
   "outputs": [],
   "source": []
  }
 ],
 "metadata": {
  "kernelspec": {
   "display_name": "Python 3 (ipykernel)",
   "language": "python",
   "name": "python3"
  },
  "language_info": {
   "codemirror_mode": {
    "name": "ipython",
    "version": 3
   },
   "file_extension": ".py",
   "mimetype": "text/x-python",
   "name": "python",
   "nbconvert_exporter": "python",
   "pygments_lexer": "ipython3",
   "version": "3.9.7"
  }
 },
 "nbformat": 4,
 "nbformat_minor": 5
}
