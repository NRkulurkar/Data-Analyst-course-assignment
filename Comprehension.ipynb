{
 "cells": [
  {
   "cell_type": "code",
   "execution_count": 1,
   "id": "16915bdb",
   "metadata": {},
   "outputs": [
    {
     "name": "stdout",
     "output_type": "stream",
     "text": [
      "hello\n"
     ]
    }
   ],
   "source": [
    "print(\"hello\")"
   ]
  },
  {
   "cell_type": "code",
   "execution_count": 2,
   "id": "8fc6b822",
   "metadata": {},
   "outputs": [
    {
     "name": "stdout",
     "output_type": "stream",
     "text": [
      "['old', 'apple']\n"
     ]
    }
   ],
   "source": [
    "input_list = [\"old\",\"new\",\"cat\",\"apple\",\"dog\"]\n",
    "new_list=[]\n",
    "for istr in input_list:\n",
    "    \n",
    "    if istr[0].lower() in \"aeiou\":\n",
    "        new_list.append(istr)\n",
    "print(new_list)"
   ]
  },
  {
   "cell_type": "code",
   "execution_count": 8,
   "id": "1b0e4498",
   "metadata": {},
   "outputs": [
    {
     "name": "stdout",
     "output_type": "stream",
     "text": [
      "['old', 'apple']\n"
     ]
    }
   ],
   "source": [
    "input_list1 = [\"old\",\"new\",\"cat\",\"apple\",\"dog\"]\n",
    "print([instr for instr in input_list1 if instr[0] in 'aeiou'])"
   ]
  },
  {
   "cell_type": "code",
   "execution_count": 9,
   "id": "99da25a0",
   "metadata": {},
   "outputs": [],
   "source": [
    "#create dictionary having key as mutiple of 3 and value as its cube"
   ]
  },
  {
   "cell_type": "code",
   "execution_count": 11,
   "id": "49949f66",
   "metadata": {},
   "outputs": [
    {
     "ename": "SyntaxError",
     "evalue": "invalid syntax (Temp/ipykernel_8560/2091273647.py, line 1)",
     "output_type": "error",
     "traceback": [
      "\u001b[1;36m  File \u001b[1;32m\"C:\\Users\\LENOVO\\AppData\\Local\\Temp/ipykernel_8560/2091273647.py\"\u001b[1;36m, line \u001b[1;32m1\u001b[0m\n\u001b[1;33m    print{i:i**3 for range(1,100) if i%3==0}\u001b[0m\n\u001b[1;37m         ^\u001b[0m\n\u001b[1;31mSyntaxError\u001b[0m\u001b[1;31m:\u001b[0m invalid syntax\n"
     ]
    }
   ],
   "source": [
    "print{i:i**3 for range(1,100) if i%3==0}"
   ]
  },
  {
   "cell_type": "code",
   "execution_count": 16,
   "id": "8b75a68a",
   "metadata": {},
   "outputs": [],
   "source": [
    "i=list(range(1,100))\n",
    "out_d={}\n",
    "for val in i:\n",
    "    if(val%3==0):\n",
    "        out_d[val]=val**3"
   ]
  },
  {
   "cell_type": "code",
   "execution_count": 17,
   "id": "65557d1c",
   "metadata": {},
   "outputs": [
    {
     "data": {
      "text/plain": [
       "{3: 27,\n",
       " 6: 216,\n",
       " 9: 729,\n",
       " 12: 1728,\n",
       " 15: 3375,\n",
       " 18: 5832,\n",
       " 21: 9261,\n",
       " 24: 13824,\n",
       " 27: 19683,\n",
       " 30: 27000,\n",
       " 33: 35937,\n",
       " 36: 46656,\n",
       " 39: 59319,\n",
       " 42: 74088,\n",
       " 45: 91125,\n",
       " 48: 110592,\n",
       " 51: 132651,\n",
       " 54: 157464,\n",
       " 57: 185193,\n",
       " 60: 216000,\n",
       " 63: 250047,\n",
       " 66: 287496,\n",
       " 69: 328509,\n",
       " 72: 373248,\n",
       " 75: 421875,\n",
       " 78: 474552,\n",
       " 81: 531441,\n",
       " 84: 592704,\n",
       " 87: 658503,\n",
       " 90: 729000,\n",
       " 93: 804357,\n",
       " 96: 884736,\n",
       " 99: 970299}"
      ]
     },
     "execution_count": 17,
     "metadata": {},
     "output_type": "execute_result"
    }
   ],
   "source": [
    "out_d"
   ]
  },
  {
   "cell_type": "code",
   "execution_count": 20,
   "id": "1ad9e084",
   "metadata": {},
   "outputs": [],
   "source": [
    "out_d={val:val**3  for val in i if val%3==0}"
   ]
  },
  {
   "cell_type": "code",
   "execution_count": 21,
   "id": "5d53a473",
   "metadata": {},
   "outputs": [
    {
     "name": "stdout",
     "output_type": "stream",
     "text": [
      "{3: 27, 6: 216, 9: 729, 12: 1728, 15: 3375, 18: 5832, 21: 9261, 24: 13824, 27: 19683, 30: 27000, 33: 35937, 36: 46656, 39: 59319, 42: 74088, 45: 91125, 48: 110592, 51: 132651, 54: 157464, 57: 185193, 60: 216000, 63: 250047, 66: 287496, 69: 328509, 72: 373248, 75: 421875, 78: 474552, 81: 531441, 84: 592704, 87: 658503, 90: 729000, 93: 804357, 96: 884736, 99: 970299}\n"
     ]
    }
   ],
   "source": [
    "print(out_d)"
   ]
  },
  {
   "cell_type": "code",
   "execution_count": 22,
   "id": "7520aa7f",
   "metadata": {},
   "outputs": [
    {
     "name": "stdout",
     "output_type": "stream",
     "text": [
      "['ad', 'ae', 'af', 'bd', 'be', 'bf', 'cd', 'ce', 'cf']\n"
     ]
    }
   ],
   "source": [
    "print([i+j for i in \"abc\" for j in \"def\"])"
   ]
  },
  {
   "cell_type": "code",
   "execution_count": 24,
   "id": "af9c72a8",
   "metadata": {},
   "outputs": [
    {
     "name": "stdout",
     "output_type": "stream",
     "text": [
      "ad\n",
      "bd\n",
      "cd\n",
      "ae\n",
      "be\n",
      "ce\n",
      "af\n",
      "bf\n",
      "cf\n"
     ]
    }
   ],
   "source": [
    "for j in \"def\":\n",
    "    for i in \"abc\":\n",
    "        print(i+j)"
   ]
  },
  {
   "cell_type": "code",
   "execution_count": 25,
   "id": "ee5306bb",
   "metadata": {},
   "outputs": [],
   "source": [
    "p={x.upper():x*3 for x in \"abc\"}"
   ]
  },
  {
   "cell_type": "code",
   "execution_count": 26,
   "id": "5e18fa38",
   "metadata": {},
   "outputs": [
    {
     "name": "stdout",
     "output_type": "stream",
     "text": [
      "{'A': 'aaa', 'B': 'bbb', 'C': 'ccc'}\n"
     ]
    }
   ],
   "source": [
    "print(p)"
   ]
  },
  {
   "cell_type": "code",
   "execution_count": null,
   "id": "97a1ca1f",
   "metadata": {},
   "outputs": [],
   "source": []
  }
 ],
 "metadata": {
  "kernelspec": {
   "display_name": "Python 3 (ipykernel)",
   "language": "python",
   "name": "python3"
  },
  "language_info": {
   "codemirror_mode": {
    "name": "ipython",
    "version": 3
   },
   "file_extension": ".py",
   "mimetype": "text/x-python",
   "name": "python",
   "nbconvert_exporter": "python",
   "pygments_lexer": "ipython3",
   "version": "3.9.6"
  }
 },
 "nbformat": 4,
 "nbformat_minor": 5
}
