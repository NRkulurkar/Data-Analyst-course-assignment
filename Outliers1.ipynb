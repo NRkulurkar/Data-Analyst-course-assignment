{
 "cells": [
  {
   "cell_type": "code",
   "execution_count": 2,
   "id": "eefd44d7",
   "metadata": {},
   "outputs": [],
   "source": [
    "import numpy as np\n",
    "import matplotlib.pyplot as plt\n",
    "import statistics"
   ]
  },
  {
   "cell_type": "code",
   "execution_count": 25,
   "id": "8c9e3fb1",
   "metadata": {},
   "outputs": [
    {
     "data": {
      "text/plain": [
       "array([21.59324826, 35.78997077, 30.17663754, ..., 26.91075362,\n",
       "       28.57616054, 31.26591286])"
      ]
     },
     "execution_count": 25,
     "metadata": {},
     "output_type": "execute_result"
    }
   ],
   "source": [
    "# multiply and add by random numbers to get some real values\n",
    "data = np.random.randn(50000)  * 20 + 20\n",
    "\n",
    "data"
   ]
  },
  {
   "cell_type": "code",
   "execution_count": 26,
   "id": "731fc81c",
   "metadata": {},
   "outputs": [],
   "source": [
    "def find_anomalies(data):\n",
    "    #define a list to accumlate anomalies\n",
    "    anomalies = []\n",
    "    \n",
    "    # Set upper and lower limit to 3 standard deviation\n",
    "    random_data_std = statistics.stdev(data)\n",
    "    random_data_mean = statistics.mean(data)\n",
    "    # 3-standard deviation\n",
    "    \n",
    "    anomaly_cut_off = random_data_std * 3\n",
    "    \n",
    "    lower_limit  = random_data_mean - anomaly_cut_off \n",
    "    upper_limit = random_data_mean + anomaly_cut_off\n",
    "    \n",
    "    # Generate outliers\n",
    "    for outlier in data:\n",
    "        if outlier > upper_limit or outlier < lower_limit:\n",
    "            anomalies.append(outlier)\n",
    "    return anomalies"
   ]
  },
  {
   "cell_type": "code",
   "execution_count": 27,
   "id": "c19146f5",
   "metadata": {},
   "outputs": [
    {
     "data": {
      "text/plain": [
       "array([21.59324826, 35.78997077, 30.17663754, ..., 26.91075362,\n",
       "       28.57616054, 31.26591286])"
      ]
     },
     "execution_count": 27,
     "metadata": {},
     "output_type": "execute_result"
    }
   ],
   "source": [
    "data"
   ]
  },
  {
   "cell_type": "code",
   "execution_count": 28,
   "id": "2c0b9684",
   "metadata": {},
   "outputs": [
    {
     "data": {
      "text/plain": [
       "[-50.226117023150266,\n",
       " 99.01942053274195,\n",
       " 84.28959286174438,\n",
       " -55.354543261978236,\n",
       " -45.09877232022474,\n",
       " 84.590301056385,\n",
       " 80.39607141866992,\n",
       " -39.96531798200458,\n",
       " 86.3920229354602,\n",
       " 82.5621397823335,\n",
       " 107.00854008271347,\n",
       " -48.03497122439853,\n",
       " 83.99525126905303,\n",
       " 89.78137334268224,\n",
       " 82.90764905492657,\n",
       " 80.56934995731072,\n",
       " 82.87023750375458,\n",
       " -49.93162152798489,\n",
       " -40.27414345433811,\n",
       " 89.38392603365025,\n",
       " 80.08335346470034,\n",
       " -43.04062794260817,\n",
       " -42.05262910205371,\n",
       " 84.09879903372624,\n",
       " 82.70863146958241,\n",
       " -47.36878516355402,\n",
       " 80.79889345638864,\n",
       " -44.5204024107569,\n",
       " 89.41678689193593,\n",
       " 82.18799206622093,\n",
       " 82.04542370599918,\n",
       " 88.14398309035406,\n",
       " -40.459143557892,\n",
       " -54.842224457736364,\n",
       " 81.28226484155061,\n",
       " 85.80560564279921,\n",
       " 84.04930556454116,\n",
       " 103.33955772438541,\n",
       " -41.72143581957787,\n",
       " 94.3278571959807,\n",
       " 81.22723353501891,\n",
       " 82.04784186630076,\n",
       " 90.79264853526342,\n",
       " -44.73741949706417,\n",
       " -43.39395875819511,\n",
       " -44.590018690043124,\n",
       " 83.85307901527428,\n",
       " -47.34265288194493,\n",
       " -47.36242064153899,\n",
       " 83.4833796722752,\n",
       " 84.0244726976606,\n",
       " -48.448357412289866,\n",
       " -40.54386181198156,\n",
       " -46.25143280715663,\n",
       " -46.414474179031075,\n",
       " 86.16972134734937,\n",
       " -44.43861738692377,\n",
       " 86.64814814679245,\n",
       " 80.11395227380476,\n",
       " -48.390765633263044,\n",
       " 82.642055992373,\n",
       " 90.22590079790164,\n",
       " -48.26996366166067,\n",
       " -57.53732666506073,\n",
       " 84.0385987121155,\n",
       " -45.7086289062844,\n",
       " 87.88741435258997,\n",
       " 82.87398029288687,\n",
       " 83.65421746734827,\n",
       " 86.44411440498774,\n",
       " 81.6483856863175,\n",
       " -42.92076522286134,\n",
       " 87.95060321639694,\n",
       " 92.41241852220996,\n",
       " 91.24988056714444,\n",
       " -43.60870032158786,\n",
       " -41.65151936557617,\n",
       " -45.445275572109054,\n",
       " -41.11706929421739,\n",
       " 81.558302647981,\n",
       " 83.79827817611877,\n",
       " -44.185014811626914,\n",
       " 82.20347387635317,\n",
       " -44.00222202422964,\n",
       " 81.23130180150648,\n",
       " 84.06887566368265,\n",
       " -42.53333819045032,\n",
       " 80.45873618597457,\n",
       " 94.9470790639822,\n",
       " 80.1375504521913,\n",
       " -52.2670853798341,\n",
       " 80.43758454069108,\n",
       " 90.6370158812187,\n",
       " 81.23147900769598,\n",
       " 80.05262246679119,\n",
       " 87.59074246062025,\n",
       " -39.76993625157518,\n",
       " 89.04443397741417,\n",
       " -51.63007679058319,\n",
       " -52.15668286027244,\n",
       " -41.88866263834707,\n",
       " -41.05046709771241,\n",
       " 92.46871346851351,\n",
       " -40.12279698049865,\n",
       " 80.43158306811152,\n",
       " 82.84427417013998,\n",
       " 82.36668280722225,\n",
       " -44.37036499568383,\n",
       " -52.78851743833978,\n",
       " 86.77657542279749,\n",
       " -42.09094840482531,\n",
       " 80.69863824088078,\n",
       " 87.9416401083055,\n",
       " -41.439078701511995,\n",
       " -40.93439950930238,\n",
       " -61.44432392502118,\n",
       " 85.06151621234856,\n",
       " -44.80849633676675,\n",
       " -44.8741647832029,\n",
       " 82.80625049019616,\n",
       " 81.20759995808855,\n",
       " -56.378572230051546,\n",
       " -45.02378767819715,\n",
       " -45.234697742626665,\n",
       " -44.907909821004566,\n",
       " 80.05708660049916,\n",
       " 83.28911220554839,\n",
       " -47.831412399929704,\n",
       " 89.00240778984232,\n",
       " -40.311177589009134,\n",
       " 81.40097091387074,\n",
       " 82.64147699712397,\n",
       " -46.37478900037041,\n",
       " 85.38662626970091,\n",
       " -42.53175332701409,\n",
       " -47.87901578995228,\n",
       " -47.11225486783641,\n",
       " -40.97751052315981,\n",
       " -47.953667493993464,\n",
       " -45.684333381487235]"
      ]
     },
     "execution_count": 28,
     "metadata": {},
     "output_type": "execute_result"
    }
   ],
   "source": [
    "find_anomalies(data)"
   ]
  },
  {
   "cell_type": "markdown",
   "id": "90dc4675",
   "metadata": {},
   "source": [
    "Anything below -39 and above 80 are considered as outliers"
   ]
  },
  {
   "cell_type": "markdown",
   "id": "8c35ea39",
   "metadata": {},
   "source": [
    "# Box Plot"
   ]
  },
  {
   "cell_type": "code",
   "execution_count": 30,
   "id": "69f6747a",
   "metadata": {},
   "outputs": [],
   "source": [
    "import seaborn as sns\n",
    "import matplotlib.pyplot as plt\n"
   ]
  },
  {
   "cell_type": "code",
   "execution_count": 31,
   "id": "029c98f9",
   "metadata": {},
   "outputs": [
    {
     "data": {
      "text/plain": [
       "<AxesSubplot:>"
      ]
     },
     "execution_count": 31,
     "metadata": {},
     "output_type": "execute_result"
    },
    {
     "data": {
      "image/png": "[encoded data removed]",
      "text/plain": [
       "<Figure size 432x288 with 1 Axes>"
      ]
     },
     "metadata": {
      "needs_background": "light"
     },
     "output_type": "display_data"
    }
   ],
   "source": [
    "sns.boxplot(data=data)"
   ]
  },
  {
   "cell_type": "markdown",
   "id": "58f5f93b",
   "metadata": {},
   "source": [
    "It consider everything above 75 and below -35 is an outliers"
   ]
  },
  {
   "cell_type": "code",
   "execution_count": 32,
   "id": "8ed9f109",
   "metadata": {},
   "outputs": [],
   "source": [
    "import pandas as pd\n"
   ]
  },
  {
   "cell_type": "code",
   "execution_count": 34,
   "id": "db6c2b1f",
   "metadata": {},
   "outputs": [],
   "source": [
    "df=pd.DataFrame(data)"
   ]
  },
  {
   "cell_type": "code",
   "execution_count": 35,
   "id": "5e97276b",
   "metadata": {},
   "outputs": [
    {
     "data": {
      "text/html": [
       "<div>\n",
       "<style scoped>\n",
       "    .dataframe tbody tr th:only-of-type {\n",
       "        vertical-align: middle;\n",
       "    }\n",
       "\n",
       "    .dataframe tbody tr th {\n",
       "        vertical-align: top;\n",
       "    }\n",
       "\n",
       "    .dataframe thead th {\n",
       "        text-align: right;\n",
       "    }\n",
       "</style>\n",
       "<table border=\"1\" class=\"dataframe\">\n",
       "  <thead>\n",
       "    <tr style=\"text-align: right;\">\n",
       "      <th></th>\n",
       "      <th>0</th>\n",
       "    </tr>\n",
       "  </thead>\n",
       "  <tbody>\n",
       "    <tr>\n",
       "      <th>0</th>\n",
       "      <td>21.593248</td>\n",
       "    </tr>\n",
       "    <tr>\n",
       "      <th>1</th>\n",
       "      <td>35.789971</td>\n",
       "    </tr>\n",
       "    <tr>\n",
       "      <th>2</th>\n",
       "      <td>30.176638</td>\n",
       "    </tr>\n",
       "    <tr>\n",
       "      <th>3</th>\n",
       "      <td>29.126812</td>\n",
       "    </tr>\n",
       "    <tr>\n",
       "      <th>4</th>\n",
       "      <td>59.458582</td>\n",
       "    </tr>\n",
       "    <tr>\n",
       "      <th>...</th>\n",
       "      <td>...</td>\n",
       "    </tr>\n",
       "    <tr>\n",
       "      <th>49995</th>\n",
       "      <td>6.508263</td>\n",
       "    </tr>\n",
       "    <tr>\n",
       "      <th>49996</th>\n",
       "      <td>30.374945</td>\n",
       "    </tr>\n",
       "    <tr>\n",
       "      <th>49997</th>\n",
       "      <td>26.910754</td>\n",
       "    </tr>\n",
       "    <tr>\n",
       "      <th>49998</th>\n",
       "      <td>28.576161</td>\n",
       "    </tr>\n",
       "    <tr>\n",
       "      <th>49999</th>\n",
       "      <td>31.265913</td>\n",
       "    </tr>\n",
       "  </tbody>\n",
       "</table>\n",
       "<p>50000 rows × 1 columns</p>\n",
       "</div>"
      ],
      "text/plain": [
       "               0\n",
       "0      21.593248\n",
       "1      35.789971\n",
       "2      30.176638\n",
       "3      29.126812\n",
       "4      59.458582\n",
       "...          ...\n",
       "49995   6.508263\n",
       "49996  30.374945\n",
       "49997  26.910754\n",
       "49998  28.576161\n",
       "49999  31.265913\n",
       "\n",
       "[50000 rows x 1 columns]"
      ]
     },
     "execution_count": 35,
     "metadata": {},
     "output_type": "execute_result"
    }
   ],
   "source": [
    "df"
   ]
  },
  {
   "cell_type": "code",
   "execution_count": 36,
   "id": "742c0228",
   "metadata": {},
   "outputs": [
    {
     "data": {
      "text/html": [
       "<div>\n",
       "<style scoped>\n",
       "    .dataframe tbody tr th:only-of-type {\n",
       "        vertical-align: middle;\n",
       "    }\n",
       "\n",
       "    .dataframe tbody tr th {\n",
       "        vertical-align: top;\n",
       "    }\n",
       "\n",
       "    .dataframe thead th {\n",
       "        text-align: right;\n",
       "    }\n",
       "</style>\n",
       "<table border=\"1\" class=\"dataframe\">\n",
       "  <thead>\n",
       "    <tr style=\"text-align: right;\">\n",
       "      <th></th>\n",
       "      <th>0</th>\n",
       "    </tr>\n",
       "  </thead>\n",
       "  <tbody>\n",
       "    <tr>\n",
       "      <th>count</th>\n",
       "      <td>50000.000000</td>\n",
       "    </tr>\n",
       "    <tr>\n",
       "      <th>mean</th>\n",
       "      <td>20.127527</td>\n",
       "    </tr>\n",
       "    <tr>\n",
       "      <th>std</th>\n",
       "      <td>19.954965</td>\n",
       "    </tr>\n",
       "    <tr>\n",
       "      <th>min</th>\n",
       "      <td>-61.444324</td>\n",
       "    </tr>\n",
       "    <tr>\n",
       "      <th>25%</th>\n",
       "      <td>6.688281</td>\n",
       "    </tr>\n",
       "    <tr>\n",
       "      <th>50%</th>\n",
       "      <td>20.125844</td>\n",
       "    </tr>\n",
       "    <tr>\n",
       "      <th>75%</th>\n",
       "      <td>33.523263</td>\n",
       "    </tr>\n",
       "    <tr>\n",
       "      <th>max</th>\n",
       "      <td>107.008540</td>\n",
       "    </tr>\n",
       "  </tbody>\n",
       "</table>\n",
       "</div>"
      ],
      "text/plain": [
       "                  0\n",
       "count  50000.000000\n",
       "mean      20.127527\n",
       "std       19.954965\n",
       "min      -61.444324\n",
       "25%        6.688281\n",
       "50%       20.125844\n",
       "75%       33.523263\n",
       "max      107.008540"
      ]
     },
     "execution_count": 36,
     "metadata": {},
     "output_type": "execute_result"
    }
   ],
   "source": [
    "df.describe()"
   ]
  },
  {
   "cell_type": "code",
   "execution_count": 37,
   "id": "f1309519",
   "metadata": {},
   "outputs": [],
   "source": [
    "list1 = [43, 54, 56, 61, 62, 66, 68, 69, 69, 70, 71, 72, 77, 78, 79, 85, 87, 88, 89, 93, 95, 96, 98, 99, 99]"
   ]
  },
  {
   "cell_type": "code",
   "execution_count": 38,
   "id": "1ac6c587",
   "metadata": {},
   "outputs": [
    {
     "data": {
      "text/plain": [
       "25"
      ]
     },
     "execution_count": 38,
     "metadata": {},
     "output_type": "execute_result"
    }
   ],
   "source": [
    "len(list1)"
   ]
  },
  {
   "cell_type": "code",
   "execution_count": 39,
   "id": "1d896067",
   "metadata": {},
   "outputs": [
    {
     "data": {
      "text/plain": [
       "43"
      ]
     },
     "execution_count": 39,
     "metadata": {},
     "output_type": "execute_result"
    }
   ],
   "source": [
    "min(list1)"
   ]
  },
  {
   "cell_type": "code",
   "execution_count": 40,
   "id": "ea55151b",
   "metadata": {},
   "outputs": [
    {
     "data": {
      "text/plain": [
       "99"
      ]
     },
     "execution_count": 40,
     "metadata": {},
     "output_type": "execute_result"
    }
   ],
   "source": [
    "max(list1)"
   ]
  },
  {
   "cell_type": "code",
   "execution_count": 42,
   "id": "aed155d0",
   "metadata": {},
   "outputs": [],
   "source": [
    "import statistics"
   ]
  },
  {
   "cell_type": "code",
   "execution_count": 43,
   "id": "bff431e0",
   "metadata": {},
   "outputs": [
    {
     "data": {
      "text/plain": [
       "76.96"
      ]
     },
     "execution_count": 43,
     "metadata": {},
     "output_type": "execute_result"
    }
   ],
   "source": [
    "statistics.mean(list1)"
   ]
  },
  {
   "cell_type": "markdown",
   "id": "bc6cd86d",
   "metadata": {},
   "source": [
    "o find the 90th percentile for these (ordered) scores, start by multiplying 90 percent times the total number of scores, which gives 90% ∗ 25 = 0.90 ∗ 25 = 22.5 (the index). Rounding up to the nearest whole number, you get 23."
   ]
  },
  {
   "cell_type": "code",
   "execution_count": 45,
   "id": "f7ff365d",
   "metadata": {},
   "outputs": [],
   "source": [
    "list2=sorted(list1)"
   ]
  },
  {
   "cell_type": "code",
   "execution_count": 46,
   "id": "728e4f26",
   "metadata": {},
   "outputs": [
    {
     "data": {
      "text/plain": [
       "[43,\n",
       " 54,\n",
       " 56,\n",
       " 61,\n",
       " 62,\n",
       " 66,\n",
       " 68,\n",
       " 69,\n",
       " 69,\n",
       " 70,\n",
       " 71,\n",
       " 72,\n",
       " 77,\n",
       " 78,\n",
       " 79,\n",
       " 85,\n",
       " 87,\n",
       " 88,\n",
       " 89,\n",
       " 93,\n",
       " 95,\n",
       " 96,\n",
       " 98,\n",
       " 99,\n",
       " 99]"
      ]
     },
     "execution_count": 46,
     "metadata": {},
     "output_type": "execute_result"
    }
   ],
   "source": [
    "list2"
   ]
  },
  {
   "cell_type": "code",
   "execution_count": 47,
   "id": "495692b7",
   "metadata": {},
   "outputs": [
    {
     "data": {
      "text/plain": [
       "25"
      ]
     },
     "execution_count": 47,
     "metadata": {},
     "output_type": "execute_result"
    }
   ],
   "source": [
    "len(list2)"
   ]
  },
  {
   "cell_type": "code",
   "execution_count": 48,
   "id": "d9ad25e0",
   "metadata": {},
   "outputs": [
    {
     "data": {
      "text/plain": [
       "22.5"
      ]
     },
     "execution_count": 48,
     "metadata": {},
     "output_type": "execute_result"
    }
   ],
   "source": [
    "0.90*25\n"
   ]
  },
  {
   "cell_type": "code",
   "execution_count": 50,
   "id": "83b1924b",
   "metadata": {},
   "outputs": [
    {
     "data": {
      "text/plain": [
       "98"
      ]
     },
     "execution_count": 50,
     "metadata": {},
     "output_type": "execute_result"
    }
   ],
   "source": [
    "list2[22]"
   ]
  },
  {
   "cell_type": "markdown",
   "id": "926e45b4",
   "metadata": {},
   "source": [
    "98 is 90th percentile of this list"
   ]
  },
  {
   "cell_type": "code",
   "execution_count": 52,
   "id": "58c13efd",
   "metadata": {},
   "outputs": [
    {
     "data": {
      "text/plain": [
       "5.0"
      ]
     },
     "execution_count": 52,
     "metadata": {},
     "output_type": "execute_result"
    }
   ],
   "source": [
    "0.2 * 25"
   ]
  },
  {
   "cell_type": "markdown",
   "id": "623fb0f9",
   "metadata": {},
   "source": [
    "Now say you want to find the 20th percentile. Start by taking 0.20 x 25 = 5 (the index); this is a whole number, which tells you the 20th percentile is the average of the 5th and 6th values in the ordered data set (62 and 66).\n",
    "\n",
    "so, 20th percentile is 62+66/2 = 64\n",
    "\n",
    "The median (the 50th percentile) for the test scores is the 13th score: 77."
   ]
  },
  {
   "cell_type": "code",
   "execution_count": 58,
   "id": "41a27072",
   "metadata": {},
   "outputs": [
    {
     "data": {
      "text/plain": [
       "64.0"
      ]
     },
     "execution_count": 58,
     "metadata": {},
     "output_type": "execute_result"
    }
   ],
   "source": [
    "(list2[4] + list2[5])/2"
   ]
  },
  {
   "cell_type": "markdown",
   "id": "b62ecdaa",
   "metadata": {},
   "source": [
    "20th percentile is 64"
   ]
  },
  {
   "cell_type": "code",
   "execution_count": 60,
   "id": "aa361bb1",
   "metadata": {},
   "outputs": [
    {
     "data": {
      "text/plain": [
       "12.5"
      ]
     },
     "execution_count": 60,
     "metadata": {},
     "output_type": "execute_result"
    }
   ],
   "source": [
    "0.5*25"
   ]
  },
  {
   "cell_type": "code",
   "execution_count": 62,
   "id": "a529a7dd",
   "metadata": {},
   "outputs": [
    {
     "data": {
      "text/plain": [
       "77"
      ]
     },
     "execution_count": 62,
     "metadata": {},
     "output_type": "execute_result"
    }
   ],
   "source": [
    "list2[12]"
   ]
  },
  {
   "cell_type": "code",
   "execution_count": null,
   "id": "127ff78a",
   "metadata": {},
   "outputs": [],
   "source": []
  }
 ],
 "metadata": {
  "kernelspec": {
   "display_name": "Python 3 (ipykernel)",
   "language": "python",
   "name": "python3"
  },
  "language_info": {
   "codemirror_mode": {
    "name": "ipython",
    "version": 3
   },
   "file_extension": ".py",
   "mimetype": "text/x-python",
   "name": "python",
   "nbconvert_exporter": "python",
   "pygments_lexer": "ipython3",
   "version": "3.9.7"
  }
 },
 "nbformat": 4,
 "nbformat_minor": 5
}
