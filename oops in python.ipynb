{
 "cells": [
  {
   "cell_type": "code",
   "execution_count": 63,
   "id": "8cc6ac07",
   "metadata": {},
   "outputs": [],
   "source": [
    "class Rectangle:\n",
    "    def __init__(self):\n",
    "        self.length=10\n",
    "        self.breadth=5\n",
    "        \n",
    "  "
   ]
  },
  {
   "cell_type": "code",
   "execution_count": 67,
   "id": "600b52cc",
   "metadata": {},
   "outputs": [
    {
     "data": {
      "text/plain": [
       "5"
      ]
     },
     "execution_count": 67,
     "metadata": {},
     "output_type": "execute_result"
    }
   ],
   "source": [
    "rect= Rectangle()\n",
    "rect.length\n",
    "rect.breadth"
   ]
  },
  {
   "cell_type": "markdown",
   "id": "a0a8684c",
   "metadata": {},
   "source": [
    "# Parametrized Constructors"
   ]
  },
  {
   "cell_type": "code",
   "execution_count": 61,
   "id": "909c99d1",
   "metadata": {},
   "outputs": [],
   "source": [
    "class Rectangle1:\n",
    "    def __init__(self, length, breadth):  \n",
    "        self.length=length\n",
    "        self.breadth=breadth\n",
    "   "
   ]
  },
  {
   "cell_type": "code",
   "execution_count": 62,
   "id": "73dba5e0",
   "metadata": {},
   "outputs": [
    {
     "data": {
      "text/plain": [
       "5"
      ]
     },
     "execution_count": 62,
     "metadata": {},
     "output_type": "execute_result"
    }
   ],
   "source": [
    "rect=Rectangle1(5,6)\n",
    "rect.length"
   ]
  },
  {
   "cell_type": "markdown",
   "id": "fb54a583",
   "metadata": {},
   "source": [
    "next code"
   ]
  },
  {
   "cell_type": "code",
   "execution_count": 68,
   "id": "8323177b",
   "metadata": {},
   "outputs": [],
   "source": [
    "class Circle:\n",
    "    pi=3.14\n",
    "    def __init__(self,radius):\n",
    "        self.radius=radius"
   ]
  },
  {
   "cell_type": "code",
   "execution_count": 69,
   "id": "80d7ac34",
   "metadata": {},
   "outputs": [],
   "source": [
    "circle_1=Circle(5)"
   ]
  },
  {
   "cell_type": "code",
   "execution_count": 45,
   "id": "95a69e1e",
   "metadata": {},
   "outputs": [
    {
     "data": {
      "text/plain": [
       "3.14"
      ]
     },
     "execution_count": 45,
     "metadata": {},
     "output_type": "execute_result"
    }
   ],
   "source": [
    "circle_1.pi"
   ]
  },
  {
   "cell_type": "code",
   "execution_count": 70,
   "id": "65d6ab14",
   "metadata": {},
   "outputs": [
    {
     "data": {
      "text/plain": [
       "5"
      ]
     },
     "execution_count": 70,
     "metadata": {},
     "output_type": "execute_result"
    }
   ],
   "source": [
    "circle_1.radius"
   ]
  },
  {
   "cell_type": "code",
   "execution_count": 57,
   "id": "5be33e22",
   "metadata": {},
   "outputs": [],
   "source": [
    "class Employee:  \n",
    "    def __init__(self, name, id):  \n",
    "        self.id = id  \n",
    "        self.name = name  \n",
    "    def display(self):  \n",
    "        print(\"ID: %d \\nName: %s\" % (self.id, self.name))  \n",
    "  "
   ]
  },
  {
   "cell_type": "code",
   "execution_count": 49,
   "id": "50d0c4b8",
   "metadata": {},
   "outputs": [],
   "source": []
  },
  {
   "cell_type": "code",
   "execution_count": 58,
   "id": "d0411490",
   "metadata": {},
   "outputs": [],
   "source": [
    "emp1 = Employee(\"John\", 101)  \n",
    "emp2 = Employee(\"David\", 102)  \n",
    "  "
   ]
  },
  {
   "cell_type": "code",
   "execution_count": 56,
   "id": "8f9f7ff4",
   "metadata": {},
   "outputs": [
    {
     "name": "stdout",
     "output_type": "stream",
     "text": [
      "ID: 101 \n",
      "Name: John\n",
      "ID: 102 \n",
      "Name: David\n"
     ]
    }
   ],
   "source": [
    "emp1.display()  \n",
    "emp2.display()  "
   ]
  },
  {
   "cell_type": "markdown",
   "id": "3f3a728a",
   "metadata": {},
   "source": [
    "# Add method to class"
   ]
  },
  {
   "cell_type": "code",
   "execution_count": 78,
   "id": "5fe84dfb",
   "metadata": {},
   "outputs": [],
   "source": [
    "class Rectangle:\n",
    "    def __init__(self,length,breadth):\n",
    "        self.length=length\n",
    "        self.breadth=breadth\n",
    "        \n",
    "    def display_area(self):\n",
    "        return self.length*self.breadth"
   ]
  },
  {
   "cell_type": "code",
   "execution_count": 80,
   "id": "011ca9e1",
   "metadata": {},
   "outputs": [],
   "source": [
    "rect=Rectangle(12,13)"
   ]
  },
  {
   "cell_type": "code",
   "execution_count": 81,
   "id": "9f5346a0",
   "metadata": {},
   "outputs": [
    {
     "data": {
      "text/plain": [
       "156"
      ]
     },
     "execution_count": 81,
     "metadata": {},
     "output_type": "execute_result"
    }
   ],
   "source": [
    "rect.display_area()"
   ]
  },
  {
   "cell_type": "markdown",
   "id": "6e9dbdbc",
   "metadata": {},
   "source": [
    "# Inheritance and overriding"
   ]
  },
  {
   "cell_type": "code",
   "execution_count": 1,
   "id": "31f3707e",
   "metadata": {},
   "outputs": [],
   "source": [
    "class Emp:\n",
    "    def func1(self):\n",
    "        print(\"hello word\")\n",
    "        \n",
    "class Dept (Emp):\n",
    "    pass"
   ]
  },
  {
   "cell_type": "code",
   "execution_count": 3,
   "id": "d9b0befc",
   "metadata": {},
   "outputs": [
    {
     "name": "stdout",
     "output_type": "stream",
     "text": [
      "hello word\n"
     ]
    }
   ],
   "source": [
    "emp=Emp()\n",
    "emp.func1()"
   ]
  },
  {
   "cell_type": "code",
   "execution_count": 4,
   "id": "c6399572",
   "metadata": {},
   "outputs": [],
   "source": [
    "dept=Dept()"
   ]
  },
  {
   "cell_type": "code",
   "execution_count": 5,
   "id": "2f6b129d",
   "metadata": {},
   "outputs": [
    {
     "name": "stdout",
     "output_type": "stream",
     "text": [
      "hello word\n"
     ]
    }
   ],
   "source": [
    "dept.func1()"
   ]
  },
  {
   "cell_type": "markdown",
   "id": "5c7019dd",
   "metadata": {},
   "source": [
    "Overriding"
   ]
  },
  {
   "cell_type": "code",
   "execution_count": 6,
   "id": "e052c7da",
   "metadata": {},
   "outputs": [],
   "source": [
    "class Shape:\n",
    "    def set_color(self,color):\n",
    "        self.color=color\n",
    "    def calculate_area(self): #abstract function\n",
    "        pass\n",
    "    def color_shape(self):\n",
    "        color_price={\"red\":20,\"blue\":10,\"green\":30}\n",
    "        return self.calculate_area()*color_price[self_color\n",
    "                                                ]"
   ]
  },
  {
   "cell_type": "code",
   "execution_count": 7,
   "id": "e7557e34",
   "metadata": {},
   "outputs": [],
   "source": [
    "class Circle(Shape):\n",
    "    pi=3.14\n",
    "    def __init__(self,radius):\n",
    "        self.radius=radius\n",
    "        \n",
    "    def calculate_area(self):\n",
    "        return Circle.pi * self.radius**2\n",
    "        "
   ]
  },
  {
   "cell_type": "code",
   "execution_count": 8,
   "id": "edc85c17",
   "metadata": {},
   "outputs": [
    {
     "data": {
      "text/plain": [
       "78.5"
      ]
     },
     "execution_count": 8,
     "metadata": {},
     "output_type": "execute_result"
    }
   ],
   "source": [
    "c=Circle(5)\n",
    "c.calculate_area()"
   ]
  },
  {
   "cell_type": "code",
   "execution_count": 13,
   "id": "aee6de38",
   "metadata": {},
   "outputs": [],
   "source": [
    "class Rectangle(Shape):\n",
    "    \n",
    "    def __init__ (self,length,breadth):\n",
    "            self.length=length\n",
    "            self.breadth=breadth\n",
    "    def calculate_area(self):\n",
    "        return self.length*self.breadth\n",
    "    def __str__(self):\n",
    "        return \"area of rectangle=\" +str(self.calculate_area())"
   ]
  },
  {
   "cell_type": "code",
   "execution_count": 15,
   "id": "970b2cb4",
   "metadata": {},
   "outputs": [
    {
     "data": {
      "text/plain": [
       "40"
      ]
     },
     "execution_count": 15,
     "metadata": {},
     "output_type": "execute_result"
    }
   ],
   "source": [
    "r=Rectangle(5,8)\n",
    "r.calculate_area()"
   ]
  },
  {
   "cell_type": "code",
   "execution_count": 17,
   "id": "504e740d",
   "metadata": {},
   "outputs": [
    {
     "data": {
      "text/plain": [
       "'area of rectangle=40'"
      ]
     },
     "execution_count": 17,
     "metadata": {},
     "output_type": "execute_result"
    }
   ],
   "source": [
    "r.__str__()"
   ]
  },
  {
   "cell_type": "code",
   "execution_count": null,
   "id": "640f482b",
   "metadata": {},
   "outputs": [],
   "source": []
  }
 ],
 "metadata": {
  "kernelspec": {
   "display_name": "Python 3 (ipykernel)",
   "language": "python",
   "name": "python3"
  },
  "language_info": {
   "codemirror_mode": {
    "name": "ipython",
    "version": 3
   },
   "file_extension": ".py",
   "mimetype": "text/x-python",
   "name": "python",
   "nbconvert_exporter": "python",
   "pygments_lexer": "ipython3",
   "version": "3.9.6"
  }
 },
 "nbformat": 4,
 "nbformat_minor": 5
}
